{
 "cells": [
  {
   "cell_type": "markdown",
   "metadata": {},
   "source": [
    "##### Name: Abigail Banting"
   ]
  },
  {
   "cell_type": "markdown",
   "metadata": {},
   "source": [
    "# Predicting League of Legends Player Division Using Machine Learning"
   ]
  },
  {
   "cell_type": "code",
   "execution_count": 1,
   "metadata": {
    "collapsed": true
   },
   "outputs": [],
   "source": [
    "import numpy as np\n",
    "import pandas as pd\n",
    "from sklearn.model_selection import train_test_split\n",
    "from sklearn.preprocessing import StandardScaler "
   ]
  },
  {
   "cell_type": "markdown",
   "metadata": {},
   "source": [
    "# Load The Data"
   ]
  },
  {
   "cell_type": "code",
   "execution_count": 2,
   "metadata": {
    "collapsed": true
   },
   "outputs": [],
   "source": [
    "bronze_df = pd.read_csv('bronze.csv')\n",
    "silver_df = pd.read_csv('silver.csv')\n",
    "gold_df = pd.read_csv('gold.csv')\n",
    "platinum_df = pd.read_csv('platinum.csv')\n",
    "diamond_df = pd.read_csv('diamond.csv') \n",
    "df = pd.read_csv('equal.csv')"
   ]
  },
  {
   "cell_type": "code",
   "execution_count": 3,
   "metadata": {},
   "outputs": [
    {
     "data": {
      "text/html": [
       "<div>\n",
       "<style>\n",
       "    .dataframe thead tr:only-child th {\n",
       "        text-align: right;\n",
       "    }\n",
       "\n",
       "    .dataframe thead th {\n",
       "        text-align: left;\n",
       "    }\n",
       "\n",
       "    .dataframe tbody tr th {\n",
       "        vertical-align: top;\n",
       "    }\n",
       "</style>\n",
       "<table border=\"1\" class=\"dataframe\">\n",
       "  <thead>\n",
       "    <tr style=\"text-align: right;\">\n",
       "      <th></th>\n",
       "      <th>highestAchievedSeasonTier</th>\n",
       "      <th>kills</th>\n",
       "      <th>deaths</th>\n",
       "      <th>assists</th>\n",
       "      <th>largestKillingSpree</th>\n",
       "      <th>largestMultiKill</th>\n",
       "      <th>longestTimeSpentLiving</th>\n",
       "      <th>totalDamageDealt</th>\n",
       "      <th>totalDamageDealtToChampions</th>\n",
       "      <th>damageSelfMitigated</th>\n",
       "      <th>...</th>\n",
       "      <th>visionScore</th>\n",
       "      <th>totalDamageTaken</th>\n",
       "      <th>goldEarned</th>\n",
       "      <th>goldSpent</th>\n",
       "      <th>turretKills</th>\n",
       "      <th>inhibitorKills</th>\n",
       "      <th>totalMinionsKilled</th>\n",
       "      <th>neutralMinionsKilled</th>\n",
       "      <th>visionWardsBoughtInGame</th>\n",
       "      <th>wardsPlaced</th>\n",
       "    </tr>\n",
       "  </thead>\n",
       "  <tbody>\n",
       "    <tr>\n",
       "      <th>0</th>\n",
       "      <td>GOLD</td>\n",
       "      <td>24</td>\n",
       "      <td>14</td>\n",
       "      <td>15</td>\n",
       "      <td>8</td>\n",
       "      <td>3</td>\n",
       "      <td>534</td>\n",
       "      <td>495365</td>\n",
       "      <td>74122</td>\n",
       "      <td>35721</td>\n",
       "      <td>...</td>\n",
       "      <td>40</td>\n",
       "      <td>53588</td>\n",
       "      <td>28906</td>\n",
       "      <td>29845</td>\n",
       "      <td>2</td>\n",
       "      <td>1</td>\n",
       "      <td>403</td>\n",
       "      <td>29</td>\n",
       "      <td>1</td>\n",
       "      <td>15</td>\n",
       "    </tr>\n",
       "    <tr>\n",
       "      <th>1</th>\n",
       "      <td>SILVER</td>\n",
       "      <td>8</td>\n",
       "      <td>17</td>\n",
       "      <td>22</td>\n",
       "      <td>2</td>\n",
       "      <td>2</td>\n",
       "      <td>535</td>\n",
       "      <td>99302</td>\n",
       "      <td>33462</td>\n",
       "      <td>15806</td>\n",
       "      <td>...</td>\n",
       "      <td>52</td>\n",
       "      <td>45592</td>\n",
       "      <td>18845</td>\n",
       "      <td>15075</td>\n",
       "      <td>0</td>\n",
       "      <td>0</td>\n",
       "      <td>68</td>\n",
       "      <td>0</td>\n",
       "      <td>1</td>\n",
       "      <td>20</td>\n",
       "    </tr>\n",
       "    <tr>\n",
       "      <th>2</th>\n",
       "      <td>GOLD</td>\n",
       "      <td>7</td>\n",
       "      <td>7</td>\n",
       "      <td>29</td>\n",
       "      <td>2</td>\n",
       "      <td>1</td>\n",
       "      <td>756</td>\n",
       "      <td>232614</td>\n",
       "      <td>30497</td>\n",
       "      <td>60578</td>\n",
       "      <td>...</td>\n",
       "      <td>51</td>\n",
       "      <td>74041</td>\n",
       "      <td>19404</td>\n",
       "      <td>17960</td>\n",
       "      <td>2</td>\n",
       "      <td>0</td>\n",
       "      <td>86</td>\n",
       "      <td>87</td>\n",
       "      <td>3</td>\n",
       "      <td>19</td>\n",
       "    </tr>\n",
       "    <tr>\n",
       "      <th>3</th>\n",
       "      <td>SILVER</td>\n",
       "      <td>10</td>\n",
       "      <td>10</td>\n",
       "      <td>20</td>\n",
       "      <td>3</td>\n",
       "      <td>1</td>\n",
       "      <td>466</td>\n",
       "      <td>247818</td>\n",
       "      <td>48215</td>\n",
       "      <td>21393</td>\n",
       "      <td>...</td>\n",
       "      <td>36</td>\n",
       "      <td>34139</td>\n",
       "      <td>20805</td>\n",
       "      <td>18475</td>\n",
       "      <td>1</td>\n",
       "      <td>0</td>\n",
       "      <td>287</td>\n",
       "      <td>0</td>\n",
       "      <td>1</td>\n",
       "      <td>11</td>\n",
       "    </tr>\n",
       "    <tr>\n",
       "      <th>4</th>\n",
       "      <td>SILVER</td>\n",
       "      <td>8</td>\n",
       "      <td>15</td>\n",
       "      <td>12</td>\n",
       "      <td>3</td>\n",
       "      <td>1</td>\n",
       "      <td>1003</td>\n",
       "      <td>198357</td>\n",
       "      <td>29891</td>\n",
       "      <td>80220</td>\n",
       "      <td>...</td>\n",
       "      <td>29</td>\n",
       "      <td>75674</td>\n",
       "      <td>19921</td>\n",
       "      <td>16075</td>\n",
       "      <td>0</td>\n",
       "      <td>1</td>\n",
       "      <td>57</td>\n",
       "      <td>86</td>\n",
       "      <td>0</td>\n",
       "      <td>16</td>\n",
       "    </tr>\n",
       "  </tbody>\n",
       "</table>\n",
       "<p>5 rows × 22 columns</p>\n",
       "</div>"
      ],
      "text/plain": [
       "  highestAchievedSeasonTier  kills  deaths  assists  largestKillingSpree  \\\n",
       "0                      GOLD     24      14       15                    8   \n",
       "1                    SILVER      8      17       22                    2   \n",
       "2                      GOLD      7       7       29                    2   \n",
       "3                    SILVER     10      10       20                    3   \n",
       "4                    SILVER      8      15       12                    3   \n",
       "\n",
       "   largestMultiKill  longestTimeSpentLiving  totalDamageDealt  \\\n",
       "0                 3                     534            495365   \n",
       "1                 2                     535             99302   \n",
       "2                 1                     756            232614   \n",
       "3                 1                     466            247818   \n",
       "4                 1                    1003            198357   \n",
       "\n",
       "   totalDamageDealtToChampions  damageSelfMitigated     ...       visionScore  \\\n",
       "0                        74122                35721     ...                40   \n",
       "1                        33462                15806     ...                52   \n",
       "2                        30497                60578     ...                51   \n",
       "3                        48215                21393     ...                36   \n",
       "4                        29891                80220     ...                29   \n",
       "\n",
       "   totalDamageTaken  goldEarned  goldSpent  turretKills  inhibitorKills  \\\n",
       "0             53588       28906      29845            2               1   \n",
       "1             45592       18845      15075            0               0   \n",
       "2             74041       19404      17960            2               0   \n",
       "3             34139       20805      18475            1               0   \n",
       "4             75674       19921      16075            0               1   \n",
       "\n",
       "   totalMinionsKilled  neutralMinionsKilled  visionWardsBoughtInGame  \\\n",
       "0                 403                    29                        1   \n",
       "1                  68                     0                        1   \n",
       "2                  86                    87                        3   \n",
       "3                 287                     0                        1   \n",
       "4                  57                    86                        0   \n",
       "\n",
       "   wardsPlaced  \n",
       "0           15  \n",
       "1           20  \n",
       "2           19  \n",
       "3           11  \n",
       "4           16  \n",
       "\n",
       "[5 rows x 22 columns]"
      ]
     },
     "execution_count": 3,
     "metadata": {},
     "output_type": "execute_result"
    }
   ],
   "source": [
    "df.head()"
   ]
  },
  {
   "cell_type": "code",
   "execution_count": 4,
   "metadata": {},
   "outputs": [
    {
     "data": {
      "text/html": [
       "<div>\n",
       "<style>\n",
       "    .dataframe thead tr:only-child th {\n",
       "        text-align: right;\n",
       "    }\n",
       "\n",
       "    .dataframe thead th {\n",
       "        text-align: left;\n",
       "    }\n",
       "\n",
       "    .dataframe tbody tr th {\n",
       "        vertical-align: top;\n",
       "    }\n",
       "</style>\n",
       "<table border=\"1\" class=\"dataframe\">\n",
       "  <thead>\n",
       "    <tr style=\"text-align: right;\">\n",
       "      <th></th>\n",
       "      <th>kills</th>\n",
       "      <th>deaths</th>\n",
       "      <th>assists</th>\n",
       "      <th>longestTimeSpentLiving</th>\n",
       "      <th>totalDamageDealtToChampions</th>\n",
       "      <th>visionScore</th>\n",
       "      <th>gold/min</th>\n",
       "      <th>cs/min</th>\n",
       "      <th>wins/lose</th>\n",
       "      <th>division</th>\n",
       "    </tr>\n",
       "  </thead>\n",
       "  <tbody>\n",
       "    <tr>\n",
       "      <th>995</th>\n",
       "      <td>15.1</td>\n",
       "      <td>10.6</td>\n",
       "      <td>15.5</td>\n",
       "      <td>1237.6</td>\n",
       "      <td>36710.9</td>\n",
       "      <td>39.1</td>\n",
       "      <td>448.847350</td>\n",
       "      <td>7.014401</td>\n",
       "      <td>0.559259</td>\n",
       "      <td>4</td>\n",
       "    </tr>\n",
       "    <tr>\n",
       "      <th>996</th>\n",
       "      <td>8.6</td>\n",
       "      <td>9.2</td>\n",
       "      <td>18.0</td>\n",
       "      <td>1197.4</td>\n",
       "      <td>21065.6</td>\n",
       "      <td>61.2</td>\n",
       "      <td>360.763095</td>\n",
       "      <td>4.299711</td>\n",
       "      <td>0.510264</td>\n",
       "      <td>4</td>\n",
       "    </tr>\n",
       "    <tr>\n",
       "      <th>997</th>\n",
       "      <td>9.5</td>\n",
       "      <td>9.9</td>\n",
       "      <td>18.4</td>\n",
       "      <td>1248.2</td>\n",
       "      <td>35880.7</td>\n",
       "      <td>58.0</td>\n",
       "      <td>397.702902</td>\n",
       "      <td>6.207016</td>\n",
       "      <td>0.542169</td>\n",
       "      <td>4</td>\n",
       "    </tr>\n",
       "    <tr>\n",
       "      <th>998</th>\n",
       "      <td>14.0</td>\n",
       "      <td>11.2</td>\n",
       "      <td>13.6</td>\n",
       "      <td>1210.5</td>\n",
       "      <td>32058.1</td>\n",
       "      <td>46.0</td>\n",
       "      <td>412.889115</td>\n",
       "      <td>5.717192</td>\n",
       "      <td>0.523490</td>\n",
       "      <td>4</td>\n",
       "    </tr>\n",
       "    <tr>\n",
       "      <th>999</th>\n",
       "      <td>7.4</td>\n",
       "      <td>10.1</td>\n",
       "      <td>21.4</td>\n",
       "      <td>1220.6</td>\n",
       "      <td>28870.9</td>\n",
       "      <td>65.0</td>\n",
       "      <td>373.800736</td>\n",
       "      <td>4.760259</td>\n",
       "      <td>0.506112</td>\n",
       "      <td>4</td>\n",
       "    </tr>\n",
       "  </tbody>\n",
       "</table>\n",
       "</div>"
      ],
      "text/plain": [
       "     kills  deaths  assists  longestTimeSpentLiving  \\\n",
       "995   15.1    10.6     15.5                  1237.6   \n",
       "996    8.6     9.2     18.0                  1197.4   \n",
       "997    9.5     9.9     18.4                  1248.2   \n",
       "998   14.0    11.2     13.6                  1210.5   \n",
       "999    7.4    10.1     21.4                  1220.6   \n",
       "\n",
       "     totalDamageDealtToChampions  visionScore    gold/min    cs/min  \\\n",
       "995                      36710.9         39.1  448.847350  7.014401   \n",
       "996                      21065.6         61.2  360.763095  4.299711   \n",
       "997                      35880.7         58.0  397.702902  6.207016   \n",
       "998                      32058.1         46.0  412.889115  5.717192   \n",
       "999                      28870.9         65.0  373.800736  4.760259   \n",
       "\n",
       "     wins/lose  division  \n",
       "995   0.559259         4  \n",
       "996   0.510264         4  \n",
       "997   0.542169         4  \n",
       "998   0.523490         4  \n",
       "999   0.506112         4  "
      ]
     },
     "execution_count": 4,
     "metadata": {},
     "output_type": "execute_result"
    }
   ],
   "source": [
    "bronze_df['division'] = 0\n",
    "silver_df['division'] = 1\n",
    "gold_df['division'] = 2\n",
    "platinum_df['division'] = 3\n",
    "diamond_df['division'] = 4\n",
    "combined_df = bronze_df.append([gold_df, silver_df, platinum_df, diamond_df])\n",
    "combined_df.head()\n",
    "combined_df.tail()"
   ]
  },
  {
   "cell_type": "markdown",
   "metadata": {},
   "source": [
    "# Standardized The Data"
   ]
  },
  {
   "cell_type": "code",
   "execution_count": 5,
   "metadata": {
    "collapsed": true
   },
   "outputs": [],
   "source": [
    "# Set up variables \n",
    "features = ['kills', 'deaths', 'assists', 'longestTimeSpentLiving', 'totalDamageDealtToChampions', 'visionScore', 'gold/min', 'cs/min', 'wins/lose']\n",
    "divisions = ['Bronze','Silver','Gold','Platinum','Diamond']\n",
    "\n",
    "X = combined_df.loc[:,features].values\n",
    "y = combined_df.loc[:,['division']].values.ravel()"
   ]
  },
  {
   "cell_type": "code",
   "execution_count": 6,
   "metadata": {},
   "outputs": [
    {
     "name": "stdout",
     "output_type": "stream",
     "text": [
      "[300, 300, 300, 300, 300]\n"
     ]
    }
   ],
   "source": [
    "# Split Data into 70% training set and 30% test set\n",
    "def standardized():\n",
    "    X_train, X_test, y_train, y_test = train_test_split( X, y, test_size=0.3, random_state=9, stratify=y)\n",
    "\n",
    "    sc = StandardScaler()\n",
    "    sc.fit(X_train) \n",
    "    X_train_std = sc.transform(X_train)\n",
    "    X_test_std = sc.transform(X_test)\n",
    "\n",
    "X_train, X_test, y_train, y_test = train_test_split( X, y, test_size=0.3, random_state=9, stratify=y)\n",
    "\n",
    "sc = StandardScaler()\n",
    "sc.fit(X_train) \n",
    "X_train_std = sc.transform(X_train)\n",
    "X_test_std = sc.transform(X_test)\n",
    "w = [0,0,0,0,0]\n",
    "for i in y_test:\n",
    "    w[i] += 1\n",
    "print(w)"
   ]
  },
  {
   "cell_type": "code",
   "execution_count": 7,
   "metadata": {
    "collapsed": true
   },
   "outputs": [],
   "source": [
    "#Friend test\n",
    "##predict_test = [4.875,1.625,4.125,822.625,14175.75,24.375,404.7923791,7.278944797,0.550387597]\n",
    "predict_test = [2.3,4.9,12.8,685.1,9892.45,57.35,298.9750529,0.569978858,0.487323944]\n",
    "p_x = np.array(predict_test)\n",
    "# p_x.reshape(1, -1)\n",
    "# sc = StandardScaler()\n",
    "# sc.fit(predict_test)\n"
   ]
  },
  {
   "cell_type": "markdown",
   "metadata": {},
   "source": [
    "# Data Vizualization"
   ]
  },
  {
   "cell_type": "code",
   "execution_count": 8,
   "metadata": {
    "collapsed": true
   },
   "outputs": [],
   "source": [
    "import matplotlib.pyplot as plt\n",
    "from sklearn.decomposition import PCA\n",
    "import math \n",
    "import seaborn as sns"
   ]
  },
  {
   "cell_type": "code",
   "execution_count": null,
   "metadata": {
    "collapsed": true,
    "scrolled": false
   },
   "outputs": [],
   "source": [
    "sns.pairplot(combined_df[combined_df.columns], hue='division',size=5)\n",
    "plt.tight_layout()\n",
    "plt.show()"
   ]
  },
  {
   "cell_type": "code",
   "execution_count": null,
   "metadata": {
    "collapsed": true
   },
   "outputs": [],
   "source": [
    "fig, ax = plt.subplots(figsize=(18,18)) \n",
    "cm = np.corrcoef(X)\n",
    "sns.set(font_scale=1.5)\n",
    "hm = sns.heatmap(cm, cbar=True,annot=True,square=True,fmt='.2f',annot_kws={'size':15},yticklabels=combined_df.columns[0:9],xticklabels=combined_df.columns[0:9],ax=ax)\n",
    "plt.show()\n",
    "sns.reset_orig()"
   ]
  },
  {
   "cell_type": "markdown",
   "metadata": {},
   "source": [
    "# SVM Models"
   ]
  },
  {
   "cell_type": "code",
   "execution_count": 9,
   "metadata": {
    "collapsed": true
   },
   "outputs": [],
   "source": [
    "from sklearn.svm import SVC"
   ]
  },
  {
   "cell_type": "code",
   "execution_count": 10,
   "metadata": {
    "collapsed": true
   },
   "outputs": [],
   "source": [
    "def svm_model(kernel,c,g=1):\n",
    "    if kernel == 'linear':\n",
    "        svm = SVC(kernel=kernel, C=c)\n",
    "    else:\n",
    "        svm = SVC(kernel=kernel, C=c, gamma=g)\n",
    "        \n",
    "    svm.fit(X_train_std,y_train)\n",
    "      \n",
    "    w = [0,0,0,0,0]\n",
    "    for i in svm.predict(X_test_std):\n",
    "        w[i] += 1\n",
    "    print(w)\n",
    "    print(svm.predict(p_x.reshape(1,-1)))\n",
    "    \n",
    "    print(kernel,\" : \",svm.score(X_test_std, y_test))"
   ]
  },
  {
   "cell_type": "code",
   "execution_count": 11,
   "metadata": {
    "collapsed": true
   },
   "outputs": [],
   "source": [
    "# Define Parameters and Kernels\n",
    "kernel = ('linear', 'rbf', 'sigmoid')\n",
    "C = [.01, 1, 10, 100]\n",
    "gamma = [.001,.1, 1, 10]"
   ]
  },
  {
   "cell_type": "code",
   "execution_count": 12,
   "metadata": {},
   "outputs": [
    {
     "name": "stdout",
     "output_type": "stream",
     "text": [
      "[296, 301, 313, 235, 355]\n",
      "[0]\n",
      "linear  :  0.636666666667\n",
      "[305, 300, 338, 199, 358]\n",
      "[1]\n",
      "linear  :  0.654666666667\n",
      "[304, 300, 339, 198, 359]\n",
      "[0]\n",
      "linear  :  0.654666666667\n",
      "\n",
      "[985, 118, 233, 82, 82]\n",
      "[0]\n",
      "rbf  :  0.382\n",
      "[317, 300, 314, 221, 348]\n",
      "[0]\n",
      "rbf  :  0.661333333333\n",
      "[344, 287, 298, 296, 275]\n",
      "[0]\n",
      "rbf  :  0.588\n",
      "\n",
      "[270, 304, 365, 150, 411]\n",
      "[0]\n",
      "sigmoid  :  0.612\n",
      "[387, 299, 279, 66, 469]\n",
      "[0]\n",
      "sigmoid  :  0.5\n",
      "[385, 312, 270, 66, 467]\n",
      "[0]\n",
      "sigmoid  :  0.487333333333\n"
     ]
    }
   ],
   "source": [
    "# Using Linear Kernel\n",
    "svm_model(kernel[0],C[0],gamma[1])\n",
    "svm_model(kernel[0],C[1],gamma[1])\n",
    "svm_model(kernel[0],C[2],gamma[1])\n",
    "\n",
    "#Using RBF\n",
    "print()\n",
    "svm_model(kernel[1],C[0],gamma[2])\n",
    "svm_model(kernel[1],C[1],gamma[1])\n",
    "svm_model(kernel[1],C[2],gamma[2])\n",
    "\n",
    "# Using Sigmoid\n",
    "print()\n",
    "svm_model(kernel[2],C[0],gamma[1])\n",
    "svm_model(kernel[2],C[1],gamma[1])\n",
    "svm_model(kernel[2],C[2],gamma[1])"
   ]
  },
  {
   "cell_type": "markdown",
   "metadata": {},
   "source": [
    "# Regression Models"
   ]
  },
  {
   "cell_type": "code",
   "execution_count": 13,
   "metadata": {
    "collapsed": true
   },
   "outputs": [],
   "source": [
    "from sklearn.linear_model import LinearRegression, Ridge, Lasso, ElasticNet\n",
    "from sklearn.metrics import mean_squared_error\n",
    "from sklearn.metrics import r2_score"
   ]
  },
  {
   "cell_type": "code",
   "execution_count": 14,
   "metadata": {
    "collapsed": true
   },
   "outputs": [],
   "source": [
    "def regressionModel(regressor):\n",
    "    X_train, X_test, y_train, y_test = train_test_split( X, y, test_size=0.3, random_state=9, stratify=y)\n",
    "    model = regressor\n",
    "    model.fit(X_train, y_train)\n",
    "    y_train_pred = model.predict(X_train)\n",
    "    y_test_pred = model.predict(X_test)\n",
    "    \n",
    "    train_score = r2_score(y_train, y_train_pred)\n",
    "    test_score = r2_score(y_test, y_test_pred)\n",
    "    \n",
    "    X_train, X_val, y_train, y_val = train_test_split(X_train, y_train, test_size=.3, random_state=9)\n",
    "    \n",
    "    validation_score = model.score(X_val, y_val)\n",
    "    \n",
    "    print(\"Train: %.3f Validation: %.3f Test: %.3f \\n\" %(train_score, validation_score, test_score))\n",
    "#     w = [0,0,0,0,0]\n",
    "#     for q in model.predict(X_test):\n",
    "#         w[q] += 1\n",
    "#     print(w)\n",
    "\n",
    "    print(\"Friend Stat:\", model.predict(p_x.reshape(1,-1)))"
   ]
  },
  {
   "cell_type": "code",
   "execution_count": 15,
   "metadata": {
    "scrolled": true
   },
   "outputs": [
    {
     "name": "stdout",
     "output_type": "stream",
     "text": [
      "ElasticNet\n",
      "Train: 0.513 Validation: 0.515 Test: 0.535 \n",
      "\n",
      "Friend Stat: [ 0.79328767]\n",
      "Lasso\n",
      "Train: 0.516 Validation: 0.518 Test: 0.539 \n",
      "\n",
      "Friend Stat: [ 0.79232663]\n",
      "Ridge\n",
      "Train: 0.516 Validation: 0.518 Test: 0.539 \n",
      "\n",
      "Friend Stat: [ 0.79227801]\n"
     ]
    }
   ],
   "source": [
    "print(\"ElasticNet\")\n",
    "regressionModel(ElasticNet(alpha=.001, l1_ratio=.2))\n",
    "print(\"Lasso\")\n",
    "regressionModel(Lasso(alpha=.00001))\n",
    "print(\"Ridge\")\n",
    "regressionModel(Ridge(alpha=.1))"
   ]
  },
  {
   "cell_type": "markdown",
   "metadata": {},
   "source": [
    "# Logistic Regression"
   ]
  },
  {
   "cell_type": "code",
   "execution_count": 16,
   "metadata": {
    "collapsed": true
   },
   "outputs": [],
   "source": [
    "from sklearn.linear_model import LogisticRegression"
   ]
  },
  {
   "cell_type": "code",
   "execution_count": 17,
   "metadata": {
    "collapsed": true
   },
   "outputs": [],
   "source": [
    "def logisticRegression(penalty, c):\n",
    "    standardized()\n",
    "    lr = LogisticRegression(penalty=penalty, C=c,  random_state=1)\n",
    "    lr.fit(X_train_std, y_train)\n",
    "    \n",
    "    print('Accuracy with', penalty,'regularization and C = %.f: %.2f' %(c,lr.score(X_test_std, y_test)))\n",
    "    w = [0,0,0,0,0]\n",
    "    for q in lr.predict(X_test):\n",
    "        w[q] += 1\n",
    "    print(w)\n",
    "\n",
    "    print(\"Friend Stat:\", lr.predict(p_x.reshape(1,-1)))"
   ]
  },
  {
   "cell_type": "code",
   "execution_count": 18,
   "metadata": {},
   "outputs": [
    {
     "name": "stdout",
     "output_type": "stream",
     "text": [
      "Accuracy with l1 regularization and C = 0: 0.59\n",
      "[0, 0, 1500, 0, 0]\n",
      "Friend Stat: [2]\n",
      "Accuracy with l1 regularization and C = 1: 0.64\n",
      "[1500, 0, 0, 0, 0]\n",
      "Friend Stat: [0]\n",
      "Accuracy with l1 regularization and C = 100: 0.64\n",
      "[0, 1500, 0, 0, 0]\n",
      "Friend Stat: [1]\n",
      "Accuracy with l2 regularization and C = 0: 0.61\n",
      "[1500, 0, 0, 0, 0]\n",
      "Friend Stat: [0]\n",
      "Accuracy with l2 regularization and C = 1: 0.64\n",
      "[1500, 0, 0, 0, 0]\n",
      "Friend Stat: [0]\n",
      "Accuracy with l2 regularization and C = 100: 0.64\n",
      "[0, 1500, 0, 0, 0]\n",
      "Friend Stat: [1]\n"
     ]
    }
   ],
   "source": [
    "C = [.01, 1, 100]\n",
    "penalty = ['l1', 'l2']\n",
    "\n",
    "for p in penalty:\n",
    "    for c in C:\n",
    "        logisticRegression(p,c)"
   ]
  },
  {
   "cell_type": "markdown",
   "metadata": {},
   "source": [
    "## Multinomial Logistic Regression"
   ]
  },
  {
   "cell_type": "code",
   "execution_count": 19,
   "metadata": {
    "collapsed": true
   },
   "outputs": [],
   "source": [
    "def multiRegression(penalty, c):\n",
    "    standardized()\n",
    "    \n",
    "    lr = LogisticRegression(penalty=penalty, C=c, multi_class='multinomial', solver='saga', max_iter= 5000, random_state=1)\n",
    "    lr.fit(X_train_std, y_train)\n",
    "    \n",
    "    w = [0,0,0,0,0]\n",
    "    for i in lr.predict(X_test):\n",
    "        w[i] += 1\n",
    "    print(w)\n",
    "    \n",
    "    print('Accuracy with', penalty,'regularization and C = %.f: %.2f' %(c,lr.score(X_test_std, y_test)))\n",
    "    w = [0,0,0,0,0]\n",
    "    for q in lr.predict(X_test):\n",
    "        w[q] += 1\n",
    "    print(w)\n",
    "\n",
    "    print(\"Friend Stat:\", lr.predict(p_x.reshape(1,-1)))"
   ]
  },
  {
   "cell_type": "code",
   "execution_count": 20,
   "metadata": {},
   "outputs": [
    {
     "name": "stdout",
     "output_type": "stream",
     "text": [
      "[0, 0, 1500, 0, 0]\n",
      "Accuracy with l1 regularization and C = 0: 0.58\n",
      "[0, 0, 1500, 0, 0]\n",
      "Friend Stat: [2]\n",
      "[1500, 0, 0, 0, 0]\n",
      "Accuracy with l1 regularization and C = 1: 0.64\n",
      "[1500, 0, 0, 0, 0]\n",
      "Friend Stat: [0]\n",
      "[0, 1500, 0, 0, 0]\n",
      "Accuracy with l1 regularization and C = 1000: 0.65\n",
      "[0, 1500, 0, 0, 0]\n",
      "Friend Stat: [1]\n",
      "[1500, 0, 0, 0, 0]\n",
      "Accuracy with l2 regularization and C = 0: 0.63\n",
      "[1500, 0, 0, 0, 0]\n",
      "Friend Stat: [0]\n",
      "[1500, 0, 0, 0, 0]\n",
      "Accuracy with l2 regularization and C = 1: 0.65\n",
      "[1500, 0, 0, 0, 0]\n",
      "Friend Stat: [0]\n",
      "[0, 1500, 0, 0, 0]\n",
      "Accuracy with l2 regularization and C = 1000: 0.65\n",
      "[0, 1500, 0, 0, 0]\n",
      "Friend Stat: [1]\n"
     ]
    }
   ],
   "source": [
    "C = [.01, 1, 1000]\n",
    "for p in penalty:\n",
    "    for c in C:\n",
    "        multiRegression(p,c)"
   ]
  },
  {
   "cell_type": "markdown",
   "metadata": {},
   "source": [
    "# Tree Classifier"
   ]
  },
  {
   "cell_type": "code",
   "execution_count": 21,
   "metadata": {
    "collapsed": true
   },
   "outputs": [],
   "source": [
    "from sklearn.neighbors import KNeighborsClassifier\n",
    "from sklearn.tree import DecisionTreeClassifier\n",
    "from sklearn.ensemble import RandomForestClassifier, AdaBoostClassifier\n",
    "from matplotlib.ticker import MaxNLocator "
   ]
  },
  {
   "cell_type": "markdown",
   "metadata": {},
   "source": [
    "### K-neighbor classifier"
   ]
  },
  {
   "cell_type": "code",
   "execution_count": 22,
   "metadata": {},
   "outputs": [
    {
     "name": "stdout",
     "output_type": "stream",
     "text": [
      "Score:  0.642\n",
      "[283, 301, 315, 172, 429]\n",
      "Friend Stat: [0]\n"
     ]
    }
   ],
   "source": [
    "clf = KNeighborsClassifier(n_neighbors=100, algorithm=\"auto\")\n",
    "clf.fit(X_train_std,y_train)\n",
    "print(\"Score: \",clf.score(X_test_std,y_test))\n",
    "\n",
    "w = [0,0,0,0,0]\n",
    "for q in clf.predict(X_test_std):\n",
    "    w[q] += 1\n",
    "print(w)\n",
    "\n",
    "print(\"Friend Stat:\", clf.predict(p_x.reshape(1,-1)))"
   ]
  },
  {
   "cell_type": "markdown",
   "metadata": {},
   "source": [
    "### DecisionTreeClassifier"
   ]
  },
  {
   "cell_type": "code",
   "execution_count": 23,
   "metadata": {
    "collapsed": true
   },
   "outputs": [],
   "source": [
    "# Fit for various depth trees\n",
    "MaxDepth = 30\n",
    "Errors = np.zeros((MaxDepth,2))\n",
    "\n",
    "#print ('Max Depth, Training, Test')\n",
    "\n",
    "for i in range(0,MaxDepth):\n",
    "    tree = DecisionTreeClassifier(criterion='gini', max_depth=i+1, random_state=0)\n",
    "    tree.fit(X_train_std, y_train)\n",
    "\n",
    "    X_combined = np.vstack((X_train, X_test))\n",
    "    y_combined = np.hstack((y_train, y_test))\n",
    "      \n",
    "    Errors[i,0] = 1 - tree.score(X_train_std,y_train)\n",
    "    Errors[i,1] = 1 - tree.score(X_test_std,y_test)\n",
    "    #print(i+1,Errors[i,0],Errors[i,1])"
   ]
  },
  {
   "cell_type": "code",
   "execution_count": 24,
   "metadata": {
    "scrolled": true
   },
   "outputs": [
    {
     "data": {
      "image/png": "[encoded data removed]",
      "text/plain": [
       "<matplotlib.figure.Figure at 0x2becf262588>"
      ]
     },
     "metadata": {},
     "output_type": "display_data"
    },
    {
     "name": "stdout",
     "output_type": "stream",
     "text": [
      "Score: 0.59\n",
      "[24, 0, 1476, 0, 0]\n",
      "Friend Stat: [0]\n"
     ]
    }
   ],
   "source": [
    "# plot errors by tree depth    \n",
    "  \n",
    "plt.close('all')\n",
    "fig, ax = plt.subplots(nrows=1, ncols=1, figsize = (8,4))\n",
    "ax.set_xlabel('Maximum Tree Depth')\n",
    "ax.set_ylabel('Error')\n",
    "ax.set_title('Learning the Telecom Dataset', fontsize ='medium')\n",
    "ax.xaxis.set_major_locator(MaxNLocator(integer=True))\n",
    "ax.plot(np.arange(1,MaxDepth+1),Errors[:,0], label='train')\n",
    "ax.plot(np.arange(1,MaxDepth+1),Errors[:,1], label='test')\n",
    "ax.legend(loc='upper right', fontsize='medium')\n",
    "plt.show() \n",
    "print(\"Score:\", tree.score(X_test_std, y_test))\n",
    "\n",
    "w = [0,0,0,0,0]\n",
    "for q in tree.predict(X_test):\n",
    "    w[q] += 1\n",
    "print(w)\n",
    "\n",
    "print(\"Friend Stat:\", tree.predict(p_x.reshape(1,-1)))"
   ]
  },
  {
   "cell_type": "markdown",
   "metadata": {},
   "source": [
    "### Random Forest Classifier"
   ]
  },
  {
   "cell_type": "code",
   "execution_count": 25,
   "metadata": {
    "collapsed": true
   },
   "outputs": [],
   "source": [
    "# Fit for various depth trees\n",
    "MaxDepth = 40\n",
    "Errors = np.zeros((MaxDepth,2))\n",
    "\n",
    "#print ('Max Depth, Training, Test')\n",
    "\n",
    "for i in range(0,MaxDepth):    \n",
    "    randomTree = RandomForestClassifier(bootstrap=True, class_weight=None, criterion='gini',\n",
    "            max_depth=i+1, max_features='auto', max_leaf_nodes=None,\n",
    "            min_impurity_decrease=0.0, min_impurity_split=None,\n",
    "            min_samples_leaf=1, min_samples_split=2,\n",
    "            min_weight_fraction_leaf=0.0, n_estimators=10, n_jobs=1,\n",
    "            oob_score=False, random_state=0, verbose=0, warm_start=False)\n",
    "    \n",
    "    randomTree.fit(X_train_std, y_train)\n",
    "      \n",
    "    Errors[i,0] = 1 - randomTree.score(X_train_std,y_train)\n",
    "    Errors[i,1] = 1 - randomTree.score(X_test_std,y_test)\n",
    "    #print(i+1,Errors[i,0],Errors[i,1])\n",
    "    "
   ]
  },
  {
   "cell_type": "code",
   "execution_count": 26,
   "metadata": {},
   "outputs": [
    {
     "data": {
      "image/png": "[encoded data removed]",
      "text/plain": [
       "<matplotlib.figure.Figure at 0x2becf250630>"
      ]
     },
     "metadata": {},
     "output_type": "display_data"
    },
    {
     "name": "stdout",
     "output_type": "stream",
     "text": [
      "Score: 0.617333333333\n",
      "[0, 0, 121, 1379, 0]\n",
      "Friend Stat: [2]\n"
     ]
    }
   ],
   "source": [
    "# plot errors by tree depth    \n",
    "  \n",
    "plt.close('all')\n",
    "fig, ax = plt.subplots(nrows=1, ncols=1, figsize = (8,4))\n",
    "ax.set_xlabel('Maximum Tree Depth')\n",
    "ax.set_ylabel('Error')\n",
    "ax.set_title('Learning the Features on League of Legends Player Stats', fontsize ='medium')\n",
    "ax.xaxis.set_major_locator(MaxNLocator(integer=True))\n",
    "ax.plot(np.arange(1,MaxDepth+1),Errors[:,0], label='train')\n",
    "ax.plot(np.arange(1,MaxDepth+1),Errors[:,1], label='test')\n",
    "ax.legend(loc='upper right', fontsize='medium')\n",
    "plt.show() \n",
    "\n",
    "print(\"Score:\",randomTree.score(X_test_std,y_test))\n",
    "\n",
    "w = [0,0,0,0,0]\n",
    "for q in randomTree.predict(X_test):\n",
    "    w[q] += 1\n",
    "print(w)\n",
    "\n",
    "print(\"Friend Stat:\", randomTree.predict(p_x.reshape(1,-1)))"
   ]
  },
  {
   "cell_type": "markdown",
   "metadata": {},
   "source": [
    "### AdaBoost"
   ]
  },
  {
   "cell_type": "code",
   "execution_count": 27,
   "metadata": {},
   "outputs": [
    {
     "name": "stdout",
     "output_type": "stream",
     "text": [
      "Max Depth, Training, Test\n",
      "1 0.242571428571 0.403333333333\n",
      "2 0.242571428571 0.404\n",
      "3 0.242571428571 0.404\n",
      "4 0.242571428571 0.405333333333\n",
      "5 0.242571428571 0.405333333333\n"
     ]
    }
   ],
   "source": [
    "MaxDepth = 5\n",
    "Errors = np.zeros((MaxDepth,2))\n",
    "\n",
    "print ('Max Depth, Training, Test')\n",
    "\n",
    "for i in range(0,MaxDepth):\n",
    "    tree = AdaBoostClassifier(DecisionTreeClassifier(max_depth=MaxDepth),learning_rate=.1)\n",
    "    tree.fit(X_train, y_train)\n",
    "      \n",
    "    Errors[i,0] =  1 - tree.score(X_train,y_train)\n",
    "    Errors[i,1] =  1 - tree.score(X_test,y_test)\n",
    "    print(i+1,Errors[i,0],Errors[i,1])"
   ]
  },
  {
   "cell_type": "code",
   "execution_count": 28,
   "metadata": {},
   "outputs": [
    {
     "data": {
      "image/png": "[encoded data removed]",
      "text/plain": [
       "<matplotlib.figure.Figure at 0x2bed085be48>"
      ]
     },
     "metadata": {},
     "output_type": "display_data"
    },
    {
     "name": "stdout",
     "output_type": "stream",
     "text": [
      "Score 0.594666666667\n",
      "[236, 299, 365, 242, 358]\n",
      "Friend Stat: [1]\n"
     ]
    }
   ],
   "source": [
    "# plot errors by tree depth    \n",
    "  \n",
    "plt.close('all')\n",
    "fig, ax = plt.subplots(nrows=1, ncols=1, figsize = (8,4))\n",
    "ax.set_xlabel('Maximum Tree Depth')\n",
    "ax.set_ylabel('Error')\n",
    "ax.set_title('Learning the Features on League of Legends Player Stats', fontsize ='medium')\n",
    "ax.xaxis.set_major_locator(MaxNLocator(integer=True))\n",
    "ax.plot(np.arange(1,MaxDepth+1),Errors[:,0], label='train')\n",
    "ax.plot(np.arange(1,MaxDepth+1),Errors[:,1], label='test')\n",
    "ax.legend(loc='upper right', fontsize='medium')\n",
    "plt.show() \n",
    "\n",
    "print(\"Score\",tree.score(X_test, y_test))\n",
    "\n",
    "w = [0,0,0,0,0]\n",
    "for q in tree.predict(X_test):\n",
    "    w[q] += 1\n",
    "print(w)\n",
    "\n",
    "print(\"Friend Stat:\", tree.predict(p_x.reshape(1,-1)))"
   ]
  },
  {
   "cell_type": "markdown",
   "metadata": {},
   "source": [
    "# Neural Network"
   ]
  },
  {
   "cell_type": "code",
   "execution_count": 29,
   "metadata": {
    "collapsed": true
   },
   "outputs": [],
   "source": [
    "from sklearn.neural_network import MLPClassifier"
   ]
  },
  {
   "cell_type": "code",
   "execution_count": null,
   "metadata": {
    "collapsed": true
   },
   "outputs": [],
   "source": [
    "clf = MLPClassifier()\n",
    "clf.fit(X_train,y_train)\n",
    "print(\"Train:\",clf.score(X_train, y_train))\n",
    "print(\"Test:\",clf.score(X_test,y_test))\n",
    "w = [0,0,0,0,0]\n",
    "for q in clf.predict(X_test):\n",
    "    w[q] += 1\n",
    "print(w)\n",
    "\n",
    "print(\"Friend Stat:\", clf.predict(p_x.reshape(1,-1)))"
   ]
  },
  {
   "cell_type": "code",
   "execution_count": null,
   "metadata": {
    "collapsed": true
   },
   "outputs": [],
   "source": []
  }
 ],
 "metadata": {
  "kernelspec": {
   "display_name": "Python 3",
   "language": "python",
   "name": "python3"
  },
  "language_info": {
   "codemirror_mode": {
    "name": "ipython",
    "version": 3
   },
   "file_extension": ".py",
   "mimetype": "text/x-python",
   "name": "python",
   "nbconvert_exporter": "python",
   "pygments_lexer": "ipython3",
   "version": "3.6.3"
  }
 },
 "nbformat": 4,
 "nbformat_minor": 2
}
